{
  "cells": [
    {
      "cell_type": "code",
      "execution_count": null,
      "metadata": {
        "colab": {
          "base_uri": "https://localhost:8080/"
        },
        "id": "fCEjTMwls17W",
        "outputId": "8c7c60ba-b1db-4284-97dd-f8583fa5db2b"
      },
      "outputs": [
        {
          "name": "stdout",
          "output_type": "stream",
          "text": [
            "Collecting ecdsa\n",
            "  Downloading ecdsa-0.18.0-py2.py3-none-any.whl (142 kB)\n",
            "\u001b[?25l     \u001b[90m━━━━━━━━━━━━━━━━━━━━━━━━━━━━━━━━━━━━━━━━\u001b[0m \u001b[32m0.0/142.9 kB\u001b[0m \u001b[31m?\u001b[0m eta \u001b[36m-:--:--\u001b[0m\r\u001b[2K     \u001b[91m━━━━━━━━━━━━━━━━━━━━━━━━━━━━━━━━━━━━\u001b[0m\u001b[90m╺\u001b[0m\u001b[90m━━\u001b[0m \u001b[32m133.1/142.9 kB\u001b[0m \u001b[31m4.4 MB/s\u001b[0m eta \u001b[36m0:00:01\u001b[0m\r\u001b[2K     \u001b[90m━━━━━━━━━━━━━━━━━━━━━━━━━━━━━━━━━━━━━━━\u001b[0m \u001b[32m142.9/142.9 kB\u001b[0m \u001b[31m3.7 MB/s\u001b[0m eta \u001b[36m0:00:00\u001b[0m\n",
            "\u001b[?25hRequirement already satisfied: six>=1.9.0 in /usr/local/lib/python3.10/dist-packages (from ecdsa) (1.16.0)\n",
            "Installing collected packages: ecdsa\n",
            "Successfully installed ecdsa-0.18.0\n"
          ]
        }
      ],
      "source": [
        "!pip install ecdsa"
      ]
    },
    {
      "cell_type": "code",
      "execution_count": null,
      "metadata": {
        "colab": {
          "base_uri": "https://localhost:8080/"
        },
        "id": "oCB-iLFss7yQ",
        "outputId": "a03ae34b-1327-48e8-f60c-98d1a48d3662"
      },
      "outputs": [
        {
          "name": "stdout",
          "output_type": "stream",
          "text": [
            "Collecting pycryptodome\n",
            "  Downloading pycryptodome-3.19.0-cp35-abi3-manylinux_2_17_x86_64.manylinux2014_x86_64.whl (2.1 MB)\n",
            "\u001b[2K     \u001b[90m━━━━━━━━━━━━━━━━━━━━━━━━━━━━━━━━━━━━━━━━\u001b[0m \u001b[32m2.1/2.1 MB\u001b[0m \u001b[31m9.5 MB/s\u001b[0m eta \u001b[36m0:00:00\u001b[0m\n",
            "\u001b[?25hInstalling collected packages: pycryptodome\n",
            "Successfully installed pycryptodome-3.19.0\n"
          ]
        }
      ],
      "source": [
        "!pip install pycryptodome"
      ]
    },
    {
      "cell_type": "code",
      "execution_count": null,
      "metadata": {
        "id": "5og1pH6xs_T2"
      },
      "outputs": [],
      "source": [
        "import hashlib\n",
        "import ecdsa\n",
        "from ecdsa import SECP256k1\n",
        "from Crypto.Hash import RIPEMD"
      ]
    },
    {
      "cell_type": "code",
      "execution_count": null,
      "metadata": {
        "colab": {
          "base_uri": "https://localhost:8080/"
        },
        "id": "GNUbCxXBtCYb",
        "outputId": "3c9fa6ef-acfd-471b-b352-73eec7f05e62"
      },
      "outputs": [
        {
          "name": "stdout",
          "output_type": "stream",
          "text": [
            "Private key: b8cb417d6c4b22eebd6f3ca7a52277438e5e894cd0f72b4bfaacb1973276a480\n",
            "Public key: 8b68916b48bec044e2f0f3335b7d6279d3485af9e728a60c76b747368b2e71e20e744cccf376a7ef7c6d8e84f8b190762e1ed0e4cfafcbd4a62e1841fab23b91\n"
          ]
        }
      ],
      "source": [
        "# Step 2: Generate ECDSA keypair\n",
        "private_key = ecdsa.SigningKey.generate(curve=SECP256k1)\n",
        "public_key = private_key.get_verifying_key()\n",
        "private_key_hex = private_key.to_string().hex()\n",
        "public_key_hex = public_key.to_string().hex()\n",
        "print(\"Private key:\", private_key_hex)\n",
        "print(\"Public key:\", public_key_hex)"
      ]
    },
    {
      "cell_type": "code",
      "execution_count": null,
      "metadata": {
        "id": "YAW976SUtNWQ"
      },
      "outputs": [],
      "source": [
        "# Helper method to compress the public key\n",
        "def compress_pub_key(pub_key):\n",
        "    x_hex = pub_key.to_string(\"compressed\").hex()\n",
        "    y_prefix = \"03\" if int(x_hex, 16) % 2 == 1 else \"02\"\n",
        "    return y_prefix + x_hex[2:]"
      ]
    },
    {
      "cell_type": "code",
      "execution_count": null,
      "metadata": {
        "colab": {
          "base_uri": "https://localhost:8080/"
        },
        "id": "RbyDnVratQNV",
        "outputId": "18c65bfc-b328-401f-ba89-f82c9720296e"
      },
      "outputs": [
        {
          "name": "stdout",
          "output_type": "stream",
          "text": [
            "Compressed Public key: 028b68916b48bec044e2f0f3335b7d6279d3485af9e728a60c76b747368b2e71e2\n"
          ]
        }
      ],
      "source": [
        "compressed_public_key = compress_pub_key(public_key)\n",
        "print(\"Compressed Public key:\", compressed_public_key)"
      ]
    },
    {
      "cell_type": "code",
      "execution_count": null,
      "metadata": {
        "colab": {
          "base_uri": "https://localhost:8080/"
        },
        "id": "uJPxXGcztUPl",
        "outputId": "8dcbbdcd-6f28-4456-cb1f-1ea64bc5a308"
      },
      "outputs": [
        {
          "name": "stdout",
          "output_type": "stream",
          "text": [
            "SHA256: 83df07d4d6b25303545ee979b2cd6bda24608f28a6583bd8416487675e72c9f8\n"
          ]
        }
      ],
      "source": [
        "# Step 3: Generate SHA-256 hash\n",
        "sha256 = hashlib.sha256()\n",
        "sha256.update(bytes.fromhex(compressed_public_key))\n",
        "s1 = sha256.digest()\n",
        "print(\"SHA256:\", s1.hex())"
      ]
    },
    {
      "cell_type": "code",
      "execution_count": null,
      "metadata": {
        "colab": {
          "base_uri": "https://localhost:8080/"
        },
        "id": "iI2HCpjftX0i",
        "outputId": "6f50340f-8997-4833-bb84-ca0f8ded464d"
      },
      "outputs": [
        {
          "name": "stdout",
          "output_type": "stream",
          "text": [
            "RIPEMD160: 2fedff7d8745d2ab6a8ee178063b2c95c4a85123\n"
          ]
        }
      ],
      "source": [
        "# Calculate RIPEMD-160 hash using pycryptodome's RIPEMD\n",
        "ripemd160_hash = RIPEMD.new()\n",
        "ripemd160_hash.update(s1)\n",
        "r1 = ripemd160_hash.digest()\n",
        "print(\"RIPEMD160:\", r1.hex())"
      ]
    }
  ],
  "metadata": {
    "colab": {
      "provenance": []
    },
    "kernelspec": {
      "display_name": "Python 3",
      "name": "python3"
    },
    "language_info": {
      "name": "python"
    }
  },
  "nbformat": 4,
  "nbformat_minor": 0
}
